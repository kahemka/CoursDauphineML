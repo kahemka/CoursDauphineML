{
 "cells": [
  {
   "cell_type": "code",
   "execution_count": 1,
   "metadata": {},
   "outputs": [],
   "source": [
    "###############################################\n",
    "# Support cours 3 : Maximum de vraisemblance  #\n",
    "###############################################"
   ]
  },
  {
   "cell_type": "code",
   "execution_count": 6,
   "metadata": {},
   "outputs": [],
   "source": [
    "import pandas as pd \n",
    "import numpy as np\n",
    "from shapely.geometry import Polygon, Point\n",
    "from matplotlib import pyplot as plt\n",
    "%matplotlib inline"
   ]
  },
  {
   "cell_type": "code",
   "execution_count": 39,
   "metadata": {},
   "outputs": [],
   "source": [
    "# Fonctions utilisés pour illustrés le concept de densité , fonction de masse puis maximum de vraisemblance\n",
    "\n",
    "def simu_discrete(masse_df, nb_obs= 1000):\n",
    "    simulation = []\n",
    "    for i in range(masse_df.shape[0]):\n",
    "        value = masse_df[\"value\"].iloc[i]\n",
    "        proba = masse_df[\"proba\"].iloc[i]\n",
    "        simulation += [value]*int(proba*nb_obs)\n",
    "    return np.random.permutation(np.array(simulation))\n",
    "\n",
    "def simu_continuous(density,nb_filling=10000, min_val=-10, max_val=10, max_freq=200):\n",
    "    data = pd.DataFrame()\n",
    "    data[\"x\"] = np.random.uniform(low=min_val,high=max_val,size=nb_filling)\n",
    "    data[\"y\"] = np.random.uniform(low=0, high=max_freq, size=nb_filling)\n",
    "    data[\"density\"] = data[\"x\"].apply(density)*nb_filling\n",
    "    return data[\"x\"][data[\"y\"]<=data[\"density\"]]\n",
    "    "
   ]
  },
  {
   "cell_type": "code",
   "execution_count": 40,
   "metadata": {},
   "outputs": [
    {
     "data": {
      "text/html": [
       "<div>\n",
       "<style scoped>\n",
       "    .dataframe tbody tr th:only-of-type {\n",
       "        vertical-align: middle;\n",
       "    }\n",
       "\n",
       "    .dataframe tbody tr th {\n",
       "        vertical-align: top;\n",
       "    }\n",
       "\n",
       "    .dataframe thead th {\n",
       "        text-align: right;\n",
       "    }\n",
       "</style>\n",
       "<table border=\"1\" class=\"dataframe\">\n",
       "  <thead>\n",
       "    <tr style=\"text-align: right;\">\n",
       "      <th></th>\n",
       "      <th>value</th>\n",
       "      <th>proba</th>\n",
       "    </tr>\n",
       "  </thead>\n",
       "  <tbody>\n",
       "    <tr>\n",
       "      <th>0</th>\n",
       "      <td>1</td>\n",
       "      <td>0.1</td>\n",
       "    </tr>\n",
       "    <tr>\n",
       "      <th>1</th>\n",
       "      <td>4</td>\n",
       "      <td>0.4</td>\n",
       "    </tr>\n",
       "    <tr>\n",
       "      <th>2</th>\n",
       "      <td>7</td>\n",
       "      <td>0.3</td>\n",
       "    </tr>\n",
       "    <tr>\n",
       "      <th>3</th>\n",
       "      <td>8</td>\n",
       "      <td>0.2</td>\n",
       "    </tr>\n",
       "  </tbody>\n",
       "</table>\n",
       "</div>"
      ],
      "text/plain": [
       "   value  proba\n",
       "0      1    0.1\n",
       "1      4    0.4\n",
       "2      7    0.3\n",
       "3      8    0.2"
      ]
     },
     "execution_count": 40,
     "metadata": {},
     "output_type": "execute_result"
    }
   ],
   "source": [
    "example_discrete = pd.DataFrame({\"value\":[1,4,7,8],\"proba\":[0.1,0.4,0.3,0.2]})\n",
    "example_discrete"
   ]
  },
  {
   "cell_type": "code",
   "execution_count": 41,
   "metadata": {},
   "outputs": [
    {
     "data": {
      "image/png": "[encoded data removed]",
      "text/plain": [
       "<Figure size 432x288 with 1 Axes>"
      ]
     },
     "metadata": {
      "needs_background": "light"
     },
     "output_type": "display_data"
    }
   ],
   "source": [
    "simulation = simu_discrete(example_discrete,nb_obs=1000)\n",
    "plt.hist(simulation)\n",
    "plt.tight_layout()"
   ]
  },
  {
   "cell_type": "code",
   "execution_count": 42,
   "metadata": {},
   "outputs": [
    {
     "data": {
      "image/png": "[encoded data removed]",
      "text/plain": [
       "<Figure size 432x288 with 1 Axes>"
      ]
     },
     "metadata": {
      "needs_background": "light"
     },
     "output_type": "display_data"
    }
   ],
   "source": [
    "def example_continuous(x):\n",
    "    return np.exp(-np.pi*x**2)\n",
    "x = np.linspace(-10,10,1000)\n",
    "plt.plot(x, [example_continuous(u) for u in x])\n",
    "plt.xlim(-2,2)\n",
    "plt.tight_layout()"
   ]
  },
  {
   "cell_type": "code",
   "execution_count": 46,
   "metadata": {},
   "outputs": [
    {
     "data": {
      "image/png": "[encoded data removed]",
      "text/plain": [
       "<Figure size 432x288 with 1 Axes>"
      ]
     },
     "metadata": {
      "needs_background": "light"
     },
     "output_type": "display_data"
    }
   ],
   "source": [
    "simulation = simu_continuous(example_continuous,nb_filling=10000, min_val=-10, max_val=10, max_freq=10000)\n",
    "plt.hist(simulation)\n",
    "plt.xlim(-2,2)\n",
    "plt.tight_layout()"
   ]
  },
  {
   "cell_type": "markdown",
   "metadata": {},
   "source": [
    "On observe : $Y_{1},Y_{2},...,Y_{n}$  \n",
    "On fait l'hypothèse que : $Y_{i}$ suit une loi de densité/ fonction de masse $F(Y_{i},X_{i}A)$   \n",
    "  \n",
    "La vraisemblance $L(A|Y,X)$ est alors définie de la manière suivante:  \n",
    "$L(A|Y,X) = \\prod_{i} F(Y_{i},X_{i}A)$  \n",
    "  \n",
    "Si les observations sont indépendantes , il s'agit de la \"densité\" du vecteur $(Y_{1},Y_{2},...,Y_{n})$  \n",
    "L'estimation du vecteur de coefficients  $A$ se fait en maximisant la quantité $L(A|Y,X)$  \n",
    "  \n",
    "Pour se faire, on utilise $l(A|Y,X)=log(L(A|Y,X)) = \\sum_{i}log(F(Y_{i},X_{i}A))$   \n",
    "En effet, cela nous permet d'avoir un critère simple de maximisation(somme de fonctions concaves dérivables)\n",
    "  \n",
    "Exemple continu:  \n",
    "On observe $Y_{1}$ et $ Y_{2}$. Avec pour modélisation: $Y\\sim N(XA,\\sigma^{2})$  \n",
    "$L(A|Y,X) = \\frac{1}{\\sigma \\sqrt{2*\\pi}}e^{-0.5*(\\frac{Y_{1}-X_{1}A}{\\sigma})^{2}}*\\frac{1}{\\sigma \\sqrt{2*\\pi}}e^{-0.5*(\\frac{Y_{2}-X_{2}A}{\\sigma})^{2}}$\n"
   ]
  },
  {
   "cell_type": "markdown",
   "metadata": {},
   "source": [
    "<b>Cas d'une modélisation constante : $ XA = cst$</b>"
   ]
  },
  {
   "cell_type": "markdown",
   "metadata": {},
   "source": [
    "Dans quel cas cela se produit il ?"
   ]
  },
  {
   "cell_type": "markdown",
   "metadata": {},
   "source": [
    "On a alors:  \n",
    "$l(A|Y,X)=\\sum_{i} log(F(Y_{i},cst)=K+\\sum_{i}-0.5*(\\frac{Y_{i}-cst}{\\sigma})^{2}$  \n",
    "Le maximum étant atteint quand la dérivé par rapport à $cst$ est nulle, on obtient:  \n",
    "$\\sum_{i}(cst_{est}-Y_{i}) = 0$  \n",
    "D'où la dénomination d'approche fréquentiste: $cst_{est}=\\frac{1}{n}\\sum_{i}{Y_{i}} $\n"
   ]
  },
  {
   "cell_type": "code",
   "execution_count": null,
   "metadata": {},
   "outputs": [],
   "source": []
  },
  {
   "cell_type": "markdown",
   "metadata": {},
   "source": [
    "<b>Cas général</b>"
   ]
  },
  {
   "cell_type": "code",
   "execution_count": null,
   "metadata": {},
   "outputs": [],
   "source": [
    "l"
   ]
  }
 ],
 "metadata": {
  "kernelspec": {
   "display_name": "Python 3",
   "language": "python",
   "name": "python3"
  },
  "language_info": {
   "codemirror_mode": {
    "name": "ipython",
    "version": 3
   },
   "file_extension": ".py",
   "mimetype": "text/x-python",
   "name": "python",
   "nbconvert_exporter": "python",
   "pygments_lexer": "ipython3",
   "version": "3.9.0"
  }
 },
 "nbformat": 4,
 "nbformat_minor": 4
}
