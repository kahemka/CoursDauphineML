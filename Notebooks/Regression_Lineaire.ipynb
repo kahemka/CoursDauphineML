{
 "cells": [
  {
   "cell_type": "code",
   "execution_count": 1,
   "metadata": {},
   "outputs": [],
   "source": [
    "##########################################\n",
    "# Support cours 3 : Régression linéaire  #\n",
    "##########################################"
   ]
  },
  {
   "cell_type": "code",
   "execution_count": 253,
   "metadata": {},
   "outputs": [],
   "source": [
    "# Required libraries\n",
    "import pandas as pd \n",
    "import numpy as np\n",
    "from matplotlib import pyplot as plt\n",
    "from sklearn.linear_model import LinearRegression\n",
    "from scipy.stats import shapiro\n",
    "%matplotlib inline"
   ]
  },
  {
   "cell_type": "markdown",
   "metadata": {},
   "source": [
    "### I.  Exemple - Spread de crédit : Relation de linéarité\n",
    "\n",
    "Data:   \n",
    "https://bondevalue.mx/bond-market/Bnp-Paribas-Sa-FR0013431277  \n",
    "https://bondevalue.mx/bond-market/Bnp-Paribas-Sa-XS1325645825  \n",
    "https://bondevalue.mx/bond-market/Bnp-Paribas-Sa-XS1470601656  \n",
    "https://bondevalue.mx/bond-market/Bnp-Paribas-Sa-XS1247508903\n",
    "\n",
    "Estimation du spread de crédit de BNP courbe EUR pour différentes maturités \n",
    "\n",
    " \n",
    "2026 (t=5) : 89.3  bps  \n",
    "2027 (t=6) : 96.3  bps   \n",
    "2031 (t=10): 118.2 bps   \n",
    "2049 (t=18): 243.9 bps"
   ]
  },
  {
   "cell_type": "markdown",
   "metadata": {},
   "source": [
    "En supposant une relation linéaire entre le spread de crédit et la maturité du bond t, estimez à partir des donnés de 2026 et 2027 le spread de l'année 2031 :  \n",
    "<b>. En posant les equations</b>  \n",
    "<b>. De manière matricielle </b>"
   ]
  },
  {
   "cell_type": "markdown",
   "metadata": {},
   "source": [
    "<b>En posant l'équation:</b>\n",
    "\n",
    "S = a x t+b  \n",
    "a x 5+b = 89.3\n",
    "a x 6+b = 96.3  \n",
    "a = 96.3-89.3 = 7\n",
    "b = 89.3-5 x 7 = 96.3 - 6 x 7 = 54.3\n",
    "  \n",
    "Pour t=10 on devrait donc avoir : 10 x 7+54.3  = 124.3 "
   ]
  },
  {
   "cell_type": "markdown",
   "metadata": {},
   "source": [
    "<b>De manière matricielle:</b>  \n",
    "$S=AX$ -> $A=X^{-1}S$\n"
   ]
  },
  {
   "cell_type": "code",
   "execution_count": 254,
   "metadata": {},
   "outputs": [
    {
     "name": "stdout",
     "output_type": "stream",
     "text": [
      "[[5. 1.]\n",
      " [6. 1.]]\n",
      "[[ 7. ]\n",
      " [54.3]]\n"
     ]
    }
   ],
   "source": [
    "t = np.array([5,6])\n",
    "y = np.array([89.3,96.3])\n",
    "x= t.reshape(-1,1)\n",
    "x= np.append(x, np.ones((t.shape[0],1)), axis=1)\n",
    "print(x)\n",
    "a = np.dot(np.linalg.inv(x),y.reshape(-1,1))\n",
    "print(a)\n"
   ]
  },
  {
   "cell_type": "code",
   "execution_count": 255,
   "metadata": {
    "scrolled": true
   },
   "outputs": [
    {
     "data": {
      "image/png": "[encoded data removed]",
      "text/plain": [
       "<Figure size 432x288 with 1 Axes>"
      ]
     },
     "metadata": {
      "needs_background": "light"
     },
     "output_type": "display_data"
    }
   ],
   "source": [
    "t_list = [5,6,10,18]\n",
    "plt.scatter(t_list,[89.3,96.3,118.2, 243.9], label='Observations')\n",
    "plt.plot(t_list,[7*u+54.3 for u in t_list], label='Predictions')\n",
    "plt.legend(loc=0)\n",
    "plt.title(\"Exemple\")\n",
    "plt.tight_layout()"
   ]
  },
  {
   "cell_type": "markdown",
   "metadata": {},
   "source": [
    "Maintenant à partir de l'ensemble des données, estimez le spread de l'année 2050 de manière linéaire de telle sorte que la somme du carré des erreurs soit minimisées, de manière théorique et avec la fonction LinearRegression de scikit learn"
   ]
  },
  {
   "cell_type": "markdown",
   "metadata": {},
   "source": [
    "Pour la partie théorique:  \n",
    "On a: $\\epsilon=Y-XA$  \n",
    "Nous cherchons à minimiser: $\\sum_{i}\\epsilon_{i}^{2} = F(A) = ?$  \n",
    "Pourquoi suffit il de trouver $A$ tel que $\\frac{\\delta F(A)}{\\delta A}=0$ ?  \n",
    "Cherchez la solution sous forme matricielle"
   ]
  },
  {
   "cell_type": "markdown",
   "metadata": {},
   "source": [
    "<b>Solution theorique</b>  \n",
    "  \n",
    "$$\\frac{\\delta F(A)}{\\delta a_{i,j}} = \\frac{\\delta(XA-Y)^{T}(XA-Y)}{\\delta A}$$  \n",
    "$$\\frac{\\delta(XA-Y)^{T}(XA-Y)}{\\delta A} = 2*X^{T}(XA-Y) = 0$$  \n",
    "    \n",
    "Donc :   \n",
    "$X^{T}XA=X^{T}Y$  \n",
    "    \n",
    "Si $X$ est de rang p, $X^{T}X$ est inversible (démonstration ?)  \n",
    "Dans ce cas : $(X^{T}X)^{-1}(X^{T}X)A = A = (X^{T}X)^{-1}X^{T}Y$  \n",
    "\n",
    "Qu'obtient on quand la matrice $X$ est inversible?\n"
   ]
  },
  {
   "cell_type": "markdown",
   "metadata": {},
   "source": [
    "<b>Resolution theorique</b>"
   ]
  },
  {
   "cell_type": "code",
   "execution_count": 330,
   "metadata": {},
   "outputs": [
    {
     "name": "stdout",
     "output_type": "stream",
     "text": [
      "[11.99451074 19.97852029]\n"
     ]
    }
   ],
   "source": [
    "t = np.array([5,6,10,18])\n",
    "y = np.array([89.3,96.3,118.2,243.9])\n",
    "x= t.reshape(-1,1)\n",
    "x= np.append(x, np.ones((t.shape[0],1)), axis=1)\n",
    "\n",
    "a = np.dot(np.dot(np.linalg.inv(np.dot(x.T,x)),x.T),y.reshape(-1,1)).reshape(-1)\n",
    "print(a)"
   ]
  },
  {
   "cell_type": "code",
   "execution_count": 331,
   "metadata": {
    "scrolled": true
   },
   "outputs": [
    {
     "data": {
      "image/png": "[encoded data removed]",
      "text/plain": [
       "<Figure size 432x288 with 1 Axes>"
      ]
     },
     "metadata": {
      "needs_background": "light"
     },
     "output_type": "display_data"
    }
   ],
   "source": [
    "t_list = [5,6,10,18]\n",
    "plt.scatter(t_list,[89.3,96.3,118.2, 243.9], label='Observations')\n",
    "plt.plot(t_list,[a[0]*u+a[1] for u in t_list], label='Predictions')\n",
    "plt.legend(loc=0)\n",
    "plt.title(\"Exemple\")\n",
    "plt.tight_layout()"
   ]
  },
  {
   "cell_type": "markdown",
   "metadata": {},
   "source": [
    "<b>Resolution avec scikit learn</b>"
   ]
  },
  {
   "cell_type": "code",
   "execution_count": 332,
   "metadata": {},
   "outputs": [
    {
     "name": "stdout",
     "output_type": "stream",
     "text": [
      "Help on class LinearRegression in module sklearn.linear_model._base:\n",
      "\n",
      "class LinearRegression(sklearn.base.MultiOutputMixin, sklearn.base.RegressorMixin, LinearModel)\n",
      " |  LinearRegression(*, fit_intercept=True, normalize=False, copy_X=True, n_jobs=None, positive=False)\n",
      " |  \n",
      " |  Ordinary least squares Linear Regression.\n",
      " |  \n",
      " |  LinearRegression fits a linear model with coefficients w = (w1, ..., wp)\n",
      " |  to minimize the residual sum of squares between the observed targets in\n",
      " |  the dataset, and the targets predicted by the linear approximation.\n",
      " |  \n",
      " |  Parameters\n",
      " |  ----------\n",
      " |  fit_intercept : bool, default=True\n",
      " |      Whether to calculate the intercept for this model. If set\n",
      " |      to False, no intercept will be used in calculations\n",
      " |      (i.e. data is expected to be centered).\n",
      " |  \n",
      " |  normalize : bool, default=False\n",
      " |      This parameter is ignored when ``fit_intercept`` is set to False.\n",
      " |      If True, the regressors X will be normalized before regression by\n",
      " |      subtracting the mean and dividing by the l2-norm.\n",
      " |      If you wish to standardize, please use\n",
      " |      :class:`~sklearn.preprocessing.StandardScaler` before calling ``fit``\n",
      " |      on an estimator with ``normalize=False``.\n",
      " |  \n",
      " |  copy_X : bool, default=True\n",
      " |      If True, X will be copied; else, it may be overwritten.\n",
      " |  \n",
      " |  n_jobs : int, default=None\n",
      " |      The number of jobs to use for the computation. This will only provide\n",
      " |      speedup for n_targets > 1 and sufficient large problems.\n",
      " |      ``None`` means 1 unless in a :obj:`joblib.parallel_backend` context.\n",
      " |      ``-1`` means using all processors. See :term:`Glossary <n_jobs>`\n",
      " |      for more details.\n",
      " |  \n",
      " |  positive : bool, default=False\n",
      " |      When set to ``True``, forces the coefficients to be positive. This\n",
      " |      option is only supported for dense arrays.\n",
      " |  \n",
      " |      .. versionadded:: 0.24\n",
      " |  \n",
      " |  Attributes\n",
      " |  ----------\n",
      " |  coef_ : array of shape (n_features, ) or (n_targets, n_features)\n",
      " |      Estimated coefficients for the linear regression problem.\n",
      " |      If multiple targets are passed during the fit (y 2D), this\n",
      " |      is a 2D array of shape (n_targets, n_features), while if only\n",
      " |      one target is passed, this is a 1D array of length n_features.\n",
      " |  \n",
      " |  rank_ : int\n",
      " |      Rank of matrix `X`. Only available when `X` is dense.\n",
      " |  \n",
      " |  singular_ : array of shape (min(X, y),)\n",
      " |      Singular values of `X`. Only available when `X` is dense.\n",
      " |  \n",
      " |  intercept_ : float or array of shape (n_targets,)\n",
      " |      Independent term in the linear model. Set to 0.0 if\n",
      " |      `fit_intercept = False`.\n",
      " |  \n",
      " |  See Also\n",
      " |  --------\n",
      " |  Ridge : Ridge regression addresses some of the\n",
      " |      problems of Ordinary Least Squares by imposing a penalty on the\n",
      " |      size of the coefficients with l2 regularization.\n",
      " |  Lasso : The Lasso is a linear model that estimates\n",
      " |      sparse coefficients with l1 regularization.\n",
      " |  ElasticNet : Elastic-Net is a linear regression\n",
      " |      model trained with both l1 and l2 -norm regularization of the\n",
      " |      coefficients.\n",
      " |  \n",
      " |  Notes\n",
      " |  -----\n",
      " |  From the implementation point of view, this is just plain Ordinary\n",
      " |  Least Squares (scipy.linalg.lstsq) or Non Negative Least Squares\n",
      " |  (scipy.optimize.nnls) wrapped as a predictor object.\n",
      " |  \n",
      " |  Examples\n",
      " |  --------\n",
      " |  >>> import numpy as np\n",
      " |  >>> from sklearn.linear_model import LinearRegression\n",
      " |  >>> X = np.array([[1, 1], [1, 2], [2, 2], [2, 3]])\n",
      " |  >>> # y = 1 * x_0 + 2 * x_1 + 3\n",
      " |  >>> y = np.dot(X, np.array([1, 2])) + 3\n",
      " |  >>> reg = LinearRegression().fit(X, y)\n",
      " |  >>> reg.score(X, y)\n",
      " |  1.0\n",
      " |  >>> reg.coef_\n",
      " |  array([1., 2.])\n",
      " |  >>> reg.intercept_\n",
      " |  3.0000...\n",
      " |  >>> reg.predict(np.array([[3, 5]]))\n",
      " |  array([16.])\n",
      " |  \n",
      " |  Method resolution order:\n",
      " |      LinearRegression\n",
      " |      sklearn.base.MultiOutputMixin\n",
      " |      sklearn.base.RegressorMixin\n",
      " |      LinearModel\n",
      " |      sklearn.base.BaseEstimator\n",
      " |      builtins.object\n",
      " |  \n",
      " |  Methods defined here:\n",
      " |  \n",
      " |  __init__(self, *, fit_intercept=True, normalize=False, copy_X=True, n_jobs=None, positive=False)\n",
      " |      Initialize self.  See help(type(self)) for accurate signature.\n",
      " |  \n",
      " |  fit(self, X, y, sample_weight=None)\n",
      " |      Fit linear model.\n",
      " |      \n",
      " |      Parameters\n",
      " |      ----------\n",
      " |      X : {array-like, sparse matrix} of shape (n_samples, n_features)\n",
      " |          Training data\n",
      " |      \n",
      " |      y : array-like of shape (n_samples,) or (n_samples, n_targets)\n",
      " |          Target values. Will be cast to X's dtype if necessary\n",
      " |      \n",
      " |      sample_weight : array-like of shape (n_samples,), default=None\n",
      " |          Individual weights for each sample\n",
      " |      \n",
      " |          .. versionadded:: 0.17\n",
      " |             parameter *sample_weight* support to LinearRegression.\n",
      " |      \n",
      " |      Returns\n",
      " |      -------\n",
      " |      self : returns an instance of self.\n",
      " |  \n",
      " |  ----------------------------------------------------------------------\n",
      " |  Data and other attributes defined here:\n",
      " |  \n",
      " |  __abstractmethods__ = frozenset()\n",
      " |  \n",
      " |  ----------------------------------------------------------------------\n",
      " |  Data descriptors inherited from sklearn.base.MultiOutputMixin:\n",
      " |  \n",
      " |  __dict__\n",
      " |      dictionary for instance variables (if defined)\n",
      " |  \n",
      " |  __weakref__\n",
      " |      list of weak references to the object (if defined)\n",
      " |  \n",
      " |  ----------------------------------------------------------------------\n",
      " |  Methods inherited from sklearn.base.RegressorMixin:\n",
      " |  \n",
      " |  score(self, X, y, sample_weight=None)\n",
      " |      Return the coefficient of determination :math:`R^2` of the\n",
      " |      prediction.\n",
      " |      \n",
      " |      The coefficient :math:`R^2` is defined as :math:`(1 - \\frac{u}{v})`,\n",
      " |      where :math:`u` is the residual sum of squares ``((y_true - y_pred)\n",
      " |      ** 2).sum()`` and :math:`v` is the total sum of squares ``((y_true -\n",
      " |      y_true.mean()) ** 2).sum()``. The best possible score is 1.0 and it\n",
      " |      can be negative (because the model can be arbitrarily worse). A\n",
      " |      constant model that always predicts the expected value of `y`,\n",
      " |      disregarding the input features, would get a :math:`R^2` score of\n",
      " |      0.0.\n",
      " |      \n",
      " |      Parameters\n",
      " |      ----------\n",
      " |      X : array-like of shape (n_samples, n_features)\n",
      " |          Test samples. For some estimators this may be a precomputed\n",
      " |          kernel matrix or a list of generic objects instead with shape\n",
      " |          ``(n_samples, n_samples_fitted)``, where ``n_samples_fitted``\n",
      " |          is the number of samples used in the fitting for the estimator.\n",
      " |      \n",
      " |      y : array-like of shape (n_samples,) or (n_samples, n_outputs)\n",
      " |          True values for `X`.\n",
      " |      \n",
      " |      sample_weight : array-like of shape (n_samples,), default=None\n",
      " |          Sample weights.\n",
      " |      \n",
      " |      Returns\n",
      " |      -------\n",
      " |      score : float\n",
      " |          :math:`R^2` of ``self.predict(X)`` wrt. `y`.\n",
      " |      \n",
      " |      Notes\n",
      " |      -----\n",
      " |      The :math:`R^2` score used when calling ``score`` on a regressor uses\n",
      " |      ``multioutput='uniform_average'`` from version 0.23 to keep consistent\n",
      " |      with default value of :func:`~sklearn.metrics.r2_score`.\n",
      " |      This influences the ``score`` method of all the multioutput\n",
      " |      regressors (except for\n",
      " |      :class:`~sklearn.multioutput.MultiOutputRegressor`).\n",
      " |  \n",
      " |  ----------------------------------------------------------------------\n",
      " |  Methods inherited from LinearModel:\n",
      " |  \n",
      " |  predict(self, X)\n",
      " |      Predict using the linear model.\n",
      " |      \n",
      " |      Parameters\n",
      " |      ----------\n",
      " |      X : array-like or sparse matrix, shape (n_samples, n_features)\n",
      " |          Samples.\n",
      " |      \n",
      " |      Returns\n",
      " |      -------\n",
      " |      C : array, shape (n_samples,)\n",
      " |          Returns predicted values.\n",
      " |  \n",
      " |  ----------------------------------------------------------------------\n",
      " |  Methods inherited from sklearn.base.BaseEstimator:\n",
      " |  \n",
      " |  __getstate__(self)\n",
      " |  \n",
      " |  __repr__(self, N_CHAR_MAX=700)\n",
      " |      Return repr(self).\n",
      " |  \n",
      " |  __setstate__(self, state)\n",
      " |  \n",
      " |  get_params(self, deep=True)\n",
      " |      Get parameters for this estimator.\n",
      " |      \n",
      " |      Parameters\n",
      " |      ----------\n",
      " |      deep : bool, default=True\n",
      " |          If True, will return the parameters for this estimator and\n",
      " |          contained subobjects that are estimators.\n",
      " |      \n",
      " |      Returns\n",
      " |      -------\n",
      " |      params : dict\n",
      " |          Parameter names mapped to their values.\n",
      " |  \n",
      " |  set_params(self, **params)\n",
      " |      Set the parameters of this estimator.\n",
      " |      \n",
      " |      The method works on simple estimators as well as on nested objects\n",
      " |      (such as :class:`~sklearn.pipeline.Pipeline`). The latter have\n",
      " |      parameters of the form ``<component>__<parameter>`` so that it's\n",
      " |      possible to update each component of a nested object.\n",
      " |      \n",
      " |      Parameters\n",
      " |      ----------\n",
      " |      **params : dict\n",
      " |          Estimator parameters.\n",
      " |      \n",
      " |      Returns\n",
      " |      -------\n",
      " |      self : estimator instance\n",
      " |          Estimator instance.\n",
      "\n"
     ]
    }
   ],
   "source": [
    "help(LinearRegression)"
   ]
  },
  {
   "cell_type": "code",
   "execution_count": 333,
   "metadata": {},
   "outputs": [
    {
     "name": "stdout",
     "output_type": "stream",
     "text": [
      "[11.99451074]\n",
      "19.97852028639622\n"
     ]
    }
   ],
   "source": [
    "reg = LinearRegression().fit(t.reshape(-1,1),y)\n",
    "print(reg.coef_)\n",
    "print(reg.intercept_)"
   ]
  },
  {
   "cell_type": "markdown",
   "metadata": {},
   "source": [
    "### II. Exemple théorique"
   ]
  },
  {
   "cell_type": "markdown",
   "metadata": {},
   "source": [
    "<b>Generer un example théorique avec les valeurs suivantes:</b>"
   ]
  },
  {
   "cell_type": "code",
   "execution_count": 334,
   "metadata": {},
   "outputs": [],
   "source": [
    "var= 0.01\n",
    "nb_obs = 10000\n",
    "nb_feature=5"
   ]
  },
  {
   "cell_type": "markdown",
   "metadata": {},
   "source": [
    "X : matrice input avec \"nb_obs\" lignes et \"nb_features\" colonnes  \n",
    "A : vecteur de \"nb_features\" coefficients  \n",
    "eps :  \"nb_obs\" erreurs de variance \"var\"  \n",
    "Y=XA+eps  \n",
    "Estimez A  "
   ]
  },
  {
   "cell_type": "code",
   "execution_count": 335,
   "metadata": {},
   "outputs": [],
   "source": [
    "x1 = np.random.uniform(low=0, high=1, size=(nb_obs,nb_feature))\n",
    "a1= np.random.uniform(low=0,high=1, size=nb_feature)\n",
    "y1 = np.dot(x1,a1)+np.random.normal(scale=np.sqrt(var), size=nb_obs)"
   ]
  },
  {
   "cell_type": "code",
   "execution_count": 336,
   "metadata": {},
   "outputs": [],
   "source": [
    "est_a1 = np.dot(np.dot(np.linalg.inv(np.dot(x1.T,x1)),x1.T),y1.reshape(-1,1)).reshape(-1)"
   ]
  },
  {
   "cell_type": "code",
   "execution_count": 337,
   "metadata": {
    "scrolled": true
   },
   "outputs": [
    {
     "data": {
      "text/plain": [
       "array([0.66528656, 0.33943169, 0.82947617, 0.55769597, 0.07419223])"
      ]
     },
     "execution_count": 337,
     "metadata": {},
     "output_type": "execute_result"
    }
   ],
   "source": [
    "est_a1"
   ]
  },
  {
   "cell_type": "code",
   "execution_count": 338,
   "metadata": {},
   "outputs": [
    {
     "data": {
      "text/plain": [
       "array([0.66687865, 0.3377081 , 0.83660601, 0.55333977, 0.0737005 ])"
      ]
     },
     "execution_count": 338,
     "metadata": {},
     "output_type": "execute_result"
    }
   ],
   "source": [
    "a1"
   ]
  },
  {
   "cell_type": "markdown",
   "metadata": {},
   "source": [
    "Testez la normalité des résidus"
   ]
  },
  {
   "cell_type": "code",
   "execution_count": 339,
   "metadata": {},
   "outputs": [
    {
     "name": "stdout",
     "output_type": "stream",
     "text": [
      "Help on function shapiro in module scipy.stats.morestats:\n",
      "\n",
      "shapiro(x)\n",
      "    Perform the Shapiro-Wilk test for normality.\n",
      "    \n",
      "    The Shapiro-Wilk test tests the null hypothesis that the\n",
      "    data was drawn from a normal distribution.\n",
      "    \n",
      "    Parameters\n",
      "    ----------\n",
      "    x : array_like\n",
      "        Array of sample data.\n",
      "    \n",
      "    Returns\n",
      "    -------\n",
      "    statistic : float\n",
      "        The test statistic.\n",
      "    p-value : float\n",
      "        The p-value for the hypothesis test.\n",
      "    \n",
      "    See Also\n",
      "    --------\n",
      "    anderson : The Anderson-Darling test for normality\n",
      "    kstest : The Kolmogorov-Smirnov test for goodness of fit.\n",
      "    \n",
      "    Notes\n",
      "    -----\n",
      "    The algorithm used is described in [4]_ but censoring parameters as\n",
      "    described are not implemented. For N > 5000 the W test statistic is accurate\n",
      "    but the p-value may not be.\n",
      "    \n",
      "    The chance of rejecting the null hypothesis when it is true is close to 5%\n",
      "    regardless of sample size.\n",
      "    \n",
      "    References\n",
      "    ----------\n",
      "    .. [1] https://www.itl.nist.gov/div898/handbook/prc/section2/prc213.htm\n",
      "    .. [2] Shapiro, S. S. & Wilk, M.B (1965). An analysis of variance test for\n",
      "           normality (complete samples), Biometrika, Vol. 52, pp. 591-611.\n",
      "    .. [3] Razali, N. M. & Wah, Y. B. (2011) Power comparisons of Shapiro-Wilk,\n",
      "           Kolmogorov-Smirnov, Lilliefors and Anderson-Darling tests, Journal of\n",
      "           Statistical Modeling and Analytics, Vol. 2, pp. 21-33.\n",
      "    .. [4] ALGORITHM AS R94 APPL. STATIST. (1995) VOL. 44, NO. 4.\n",
      "    \n",
      "    Examples\n",
      "    --------\n",
      "    >>> from scipy import stats\n",
      "    >>> np.random.seed(12345678)\n",
      "    >>> x = stats.norm.rvs(loc=5, scale=3, size=100)\n",
      "    >>> shapiro_test = stats.shapiro(x)\n",
      "    >>> shapiro_test\n",
      "    ShapiroResult(statistic=0.9772805571556091, pvalue=0.08144091814756393)\n",
      "    >>> shapiro_test.statistic\n",
      "    0.9772805571556091\n",
      "    >>> shapiro_test.pvalue\n",
      "    0.08144091814756393\n",
      "\n"
     ]
    }
   ],
   "source": [
    "help(shapiro)"
   ]
  },
  {
   "cell_type": "code",
   "execution_count": 340,
   "metadata": {},
   "outputs": [
    {
     "data": {
      "image/png": "[encoded data removed]",
      "text/plain": [
       "<Figure size 432x288 with 1 Axes>"
      ]
     },
     "metadata": {
      "needs_background": "light"
     },
     "output_type": "display_data"
    }
   ],
   "source": [
    "e1 = np.dot(x1,est_a1)\n",
    "error1 = y1-e1\n",
    "plt.hist(error1)\n",
    "plt.tight_layout()"
   ]
  },
  {
   "cell_type": "code",
   "execution_count": 341,
   "metadata": {},
   "outputs": [
    {
     "name": "stdout",
     "output_type": "stream",
     "text": [
      "Statistics=1.000, p=0.535\n",
      "Sample looks Gaussian (fail to reject H0)\n"
     ]
    },
    {
     "name": "stderr",
     "output_type": "stream",
     "text": [
      "c:\\users\\kevin vu\\appdata\\local\\programs\\python\\python39\\lib\\site-packages\\scipy\\stats\\morestats.py:1681: UserWarning: p-value may not be accurate for N > 5000.\n",
      "  warnings.warn(\"p-value may not be accurate for N > 5000.\")\n"
     ]
    }
   ],
   "source": [
    "stat, p = shapiro(error1)\n",
    "print('Statistics=%.3f, p=%.3f' % (stat, p))\n",
    "# interpret\n",
    "alpha = 0.05\n",
    "if p > alpha:\n",
    "    print('Sample looks Gaussian (fail to reject H0)')\n",
    "else:\n",
    "    print('Sample does not look Gaussian (reject H0)')"
   ]
  },
  {
   "cell_type": "markdown",
   "metadata": {},
   "source": [
    "Peut on calculer la covariance des coefficients dans ce cas précis ?"
   ]
  },
  {
   "cell_type": "markdown",
   "metadata": {},
   "source": [
    "$Y= XA + \\epsilon$    \n",
    "$\\epsilon \\sim N(0,\\sigma)$ \n",
    "$Var(A_{est}) = ?$"
   ]
  },
  {
   "cell_type": "markdown",
   "metadata": {},
   "source": [
    "$Var(Y)=  \\sigma*I_{n} $  \n",
    "$Var(A_{est}) = Var((X^{T}X)^{-1}X^{T}Y)$  \n",
    "On rappelle que : $Var(MV) = MVar(V)M^{T}$ avec $M$ matrice deterministe et $V$ vecteur aléatoire  \n",
    "$Var(A_{est}) = (X^{T}X)^{-1}X^{T}\\sigma*I_{n}(X(X^{T}X)^{-1})^{T} = (X^{T}X)^{-1}X^{T}\\sigma*I_{n}X(X^{T}X)^{-1} = \\sigma(X^{T}X)^{-1}X^{T}X(X^{T}X)^{-1} = \\sigma(X^{T}X)^{-1}$ "
   ]
  },
  {
   "cell_type": "code",
   "execution_count": 342,
   "metadata": {},
   "outputs": [],
   "source": [
    "var_est = var*np.linalg.inv(np.dot(x1.T,x1))"
   ]
  },
  {
   "cell_type": "code",
   "execution_count": 343,
   "metadata": {
    "scrolled": true
   },
   "outputs": [
    {
     "data": {
      "text/plain": [
       "array([[ 9.88645263e-06, -2.30792630e-06, -2.37042322e-06,\n",
       "        -2.09662298e-06, -2.34515213e-06],\n",
       "       [-2.30792630e-06,  9.67817499e-06, -2.26758355e-06,\n",
       "        -2.22774702e-06, -2.03130852e-06],\n",
       "       [-2.37042322e-06, -2.26758355e-06,  9.92572170e-06,\n",
       "        -2.23949063e-06, -2.35169297e-06],\n",
       "       [-2.09662298e-06, -2.22774702e-06, -2.23949063e-06,\n",
       "         9.56955667e-06, -2.32308358e-06],\n",
       "       [-2.34515213e-06, -2.03130852e-06, -2.35169297e-06,\n",
       "        -2.32308358e-06,  9.78721815e-06]])"
      ]
     },
     "execution_count": 343,
     "metadata": {},
     "output_type": "execute_result"
    }
   ],
   "source": [
    "var_est"
   ]
  },
  {
   "cell_type": "markdown",
   "metadata": {},
   "source": [
    "KPI : le $R^{2}$  \n",
    "Le $R^{2}$  est défini de la manière suivante:  \n",
    "$Var_{generale} = \\sum (y_{i}-mean(Y))^{2}$  \n",
    "$Var_{specifique} = \\sum (y_{i}-\\sum x_{i,j}*a_{j}))^{2}$  \n",
    "$R^{2} = 1-\\frac{Var_{specifique}}{Var_{generale}}$  \n",
    "  \n",
    "<b>Calculez le R2 dans ce cas théorique</b>\n"
   ]
  },
  {
   "cell_type": "code",
   "execution_count": 344,
   "metadata": {},
   "outputs": [
    {
     "name": "stdout",
     "output_type": "stream",
     "text": [
      "0.9303458832462278\n"
     ]
    }
   ],
   "source": [
    "var_general = np.sum(np.power(y1-np.mean(y1),2))\n",
    "var_specifique = np.sum(np.power(error1,2))\n",
    "print(1-var_specifique/var_general)"
   ]
  },
  {
   "cell_type": "markdown",
   "metadata": {},
   "source": [
    "<b>Comment interpreter le R2 ?</b>\n",
    "<b>Est ce un indicateur fiable ?</b>"
   ]
  },
  {
   "cell_type": "markdown",
   "metadata": {},
   "source": [
    "<b>Retour au cas pratique : calcul du R2 pour la regression des spreads de crédits </b>"
   ]
  },
  {
   "cell_type": "code",
   "execution_count": 345,
   "metadata": {},
   "outputs": [
    {
     "name": "stdout",
     "output_type": "stream",
     "text": [
      "0.9591031492191693\n"
     ]
    }
   ],
   "source": [
    "var_general = np.sum(np.power(y-np.mean(y),2))\n",
    "var_specifique = np.sum(np.power(y-np.array([a[0]*u+a[1] for u in t_list]),2))\n",
    "print(1-var_specifique/var_general)"
   ]
  },
  {
   "cell_type": "markdown",
   "metadata": {},
   "source": [
    "<b>Proposez d'autres indicateurs </b>:"
   ]
  },
  {
   "cell_type": "markdown",
   "metadata": {},
   "source": [
    "Erreur absolu moyenne:"
   ]
  },
  {
   "cell_type": "code",
   "execution_count": 346,
   "metadata": {},
   "outputs": [
    {
     "data": {
      "text/plain": [
       "10.861813842482064"
      ]
     },
     "execution_count": 346,
     "metadata": {},
     "output_type": "execute_result"
    }
   ],
   "source": [
    "np.mean(np.abs(y-np.array([a[0]*u+a[1] for u in t_list])))"
   ]
  },
  {
   "cell_type": "markdown",
   "metadata": {},
   "source": [
    "### III. Modification de l'espace de départ / espace d'arrivé"
   ]
  },
  {
   "cell_type": "markdown",
   "metadata": {},
   "source": [
    "Supposons maintenant que la relation est linéaire entre le log du spread et la maturité, estimez le spread de l'année 2031\n",
    "à partir de 2026 et 2027"
   ]
  },
  {
   "cell_type": "code",
   "execution_count": 347,
   "metadata": {},
   "outputs": [
    {
     "name": "stdout",
     "output_type": "stream",
     "text": [
      "[[0.07546683]\n",
      " [4.11466733]]\n"
     ]
    }
   ],
   "source": [
    "#log(s) = a x t + b \n",
    "t = np.array([5,6])\n",
    "y = np.array([89.3,96.3])\n",
    "x= t.reshape(-1,1)\n",
    "x= np.append(x, np.ones((t.shape[0],1)), axis=1)\n",
    "a = np.dot(np.linalg.inv(x),np.log(y).reshape(-1,1))\n",
    "print(a)\n"
   ]
  },
  {
   "cell_type": "code",
   "execution_count": 348,
   "metadata": {},
   "outputs": [
    {
     "data": {
      "image/png": "[encoded data removed]",
      "text/plain": [
       "<Figure size 432x288 with 1 Axes>"
      ]
     },
     "metadata": {
      "needs_background": "light"
     },
     "output_type": "display_data"
    }
   ],
   "source": [
    "t_list = [5,6,10,18]\n",
    "plt.scatter(t_list,[89.3,96.3,118.2,243.9], label='Observations')\n",
    "plt.plot(t_list,[np.exp(a[0]*u+a[1]) for u in t_list], label='Predictions')\n",
    "plt.legend(loc=0)\n",
    "plt.title(\"Exemple\")\n",
    "plt.tight_layout()"
   ]
  },
  {
   "cell_type": "markdown",
   "metadata": {},
   "source": [
    "Supposons que la relation est lineaire entre le spread et le log de la maturité ?"
   ]
  },
  {
   "cell_type": "code",
   "execution_count": 349,
   "metadata": {},
   "outputs": [
    {
     "name": "stdout",
     "output_type": "stream",
     "text": [
      "[[38.39370463]\n",
      " [27.50771616]]\n"
     ]
    }
   ],
   "source": [
    "#log(s) = a x t + b \n",
    "t = np.array([5,6])\n",
    "y = np.array([89.3,96.3])\n",
    "x= np.log(t).reshape(-1,1)\n",
    "x= np.append(x, np.ones((t.shape[0],1)), axis=1)\n",
    "a = np.dot(np.linalg.inv(x),y.reshape(-1,1))\n",
    "print(a)\n"
   ]
  },
  {
   "cell_type": "code",
   "execution_count": 350,
   "metadata": {},
   "outputs": [
    {
     "data": {
      "image/png": "[encoded data removed]",
      "text/plain": [
       "<Figure size 432x288 with 1 Axes>"
      ]
     },
     "metadata": {
      "needs_background": "light"
     },
     "output_type": "display_data"
    }
   ],
   "source": [
    "t_list = [5,6,10,18]\n",
    "plt.scatter(t_list,[89.3,96.3,118.2,243.9], label='Observations')\n",
    "plt.plot(t_list,[a[0]*np.log(u)+a[1] for u in t_list], label='Predictions')\n",
    "plt.legend(loc=0)\n",
    "plt.title(\"Exemple\")\n",
    "plt.tight_layout()"
   ]
  },
  {
   "cell_type": "markdown",
   "metadata": {},
   "source": [
    "<b>Meme exercice en minimisant les erreurs : </b>"
   ]
  },
  {
   "cell_type": "markdown",
   "metadata": {},
   "source": [
    "<b>Cas log linear</b>"
   ]
  },
  {
   "cell_type": "code",
   "execution_count": 351,
   "metadata": {},
   "outputs": [
    {
     "name": "stdout",
     "output_type": "stream",
     "text": [
      "[0.07710107 4.0804161 ]\n"
     ]
    }
   ],
   "source": [
    "t = np.array([5,6,10,18])\n",
    "y = np.array([89.3,96.3,118.2,243.9])\n",
    "x= t.reshape(-1,1)\n",
    "x= np.append(x, np.ones((t.shape[0],1)), axis=1)\n",
    "\n",
    "a = np.dot(np.dot(np.linalg.inv(np.dot(x.T,x)),x.T),np.log(y).reshape(-1,1)).reshape(-1)\n",
    "print(a)"
   ]
  },
  {
   "cell_type": "code",
   "execution_count": 352,
   "metadata": {},
   "outputs": [
    {
     "data": {
      "image/png": "[encoded data removed]",
      "text/plain": [
       "<Figure size 432x288 with 1 Axes>"
      ]
     },
     "metadata": {
      "needs_background": "light"
     },
     "output_type": "display_data"
    }
   ],
   "source": [
    "t_list = [5,6,10,18]\n",
    "plt.scatter(t_list,[89.3,96.3,118.2,243.9], label='Observations')\n",
    "plt.plot(t_list,[np.exp(a[0]*u+a[1]) for u in t_list], label='Predictions')\n",
    "plt.legend(loc=0)\n",
    "plt.title(\"Exemple\")\n",
    "plt.tight_layout()"
   ]
  },
  {
   "cell_type": "markdown",
   "metadata": {},
   "source": [
    "<b>Indicateur d'erreur?</b>"
   ]
  },
  {
   "cell_type": "code",
   "execution_count": 356,
   "metadata": {},
   "outputs": [
    {
     "data": {
      "text/plain": [
       "5.301417561696713"
      ]
     },
     "execution_count": 356,
     "metadata": {},
     "output_type": "execute_result"
    }
   ],
   "source": [
    "np.mean(np.abs(y-np.array([np.exp(a[0]*u+a[1]) for u in t_list])))"
   ]
  },
  {
   "cell_type": "markdown",
   "metadata": {},
   "source": [
    "<b>Cas linear log</b>"
   ]
  },
  {
   "cell_type": "code",
   "execution_count": 357,
   "metadata": {},
   "outputs": [
    {
     "name": "stdout",
     "output_type": "stream",
     "text": [
      "[ 117.58639836 -115.71391079]\n"
     ]
    }
   ],
   "source": [
    "t = np.array([5,6,10,18])\n",
    "y = np.array([89.3,96.3,118.2,243.9])\n",
    "x= np.log(t).reshape(-1,1)\n",
    "x= np.append(x, np.ones((t.shape[0],1)), axis=1)\n",
    "\n",
    "a = np.dot(np.dot(np.linalg.inv(np.dot(x.T,x)),x.T),y.reshape(-1,1)).reshape(-1)\n",
    "print(a)"
   ]
  },
  {
   "cell_type": "code",
   "execution_count": 358,
   "metadata": {},
   "outputs": [
    {
     "data": {
      "image/png": "[encoded data removed]",
      "text/plain": [
       "<Figure size 432x288 with 1 Axes>"
      ]
     },
     "metadata": {
      "needs_background": "light"
     },
     "output_type": "display_data"
    }
   ],
   "source": [
    "t_list = [5,6,10,18]\n",
    "plt.scatter(t_list,[89.3,96.3,118.2,243.9], label='Observations')\n",
    "plt.plot(t_list,[a[0]*np.log(u)+a[1] for u in t_list], label='Predictions')\n",
    "plt.legend(loc=0)\n",
    "plt.title(\"Exemple\")\n",
    "plt.tight_layout()"
   ]
  },
  {
   "cell_type": "markdown",
   "metadata": {},
   "source": [
    "<b>Indicateur d'erreur ?</b>"
   ]
  },
  {
   "cell_type": "code",
   "execution_count": 359,
   "metadata": {},
   "outputs": [
    {
     "data": {
      "text/plain": [
       "18.419388606813403"
      ]
     },
     "execution_count": 359,
     "metadata": {},
     "output_type": "execute_result"
    }
   ],
   "source": [
    "np.mean(np.abs(y-np.array([a[0]*np.log(u)+a[1] for u in t_list])))"
   ]
  },
  {
   "cell_type": "markdown",
   "metadata": {},
   "source": [
    " "
   ]
  },
  {
   "cell_type": "code",
   "execution_count": null,
   "metadata": {},
   "outputs": [],
   "source": []
  }
 ],
 "metadata": {
  "kernelspec": {
   "display_name": "Python 3",
   "language": "python",
   "name": "python3"
  },
  "language_info": {
   "codemirror_mode": {
    "name": "ipython",
    "version": 3
   },
   "file_extension": ".py",
   "mimetype": "text/x-python",
   "name": "python",
   "nbconvert_exporter": "python",
   "pygments_lexer": "ipython3",
   "version": "3.9.0"
  }
 },
 "nbformat": 4,
 "nbformat_minor": 4
}
